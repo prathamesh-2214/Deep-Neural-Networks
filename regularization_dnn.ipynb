{
  "nbformat": 4,
  "nbformat_minor": 0,
  "metadata": {
    "colab": {
      "provenance": []
    },
    "kernelspec": {
      "name": "python3",
      "display_name": "Python 3"
    },
    "language_info": {
      "name": "python"
    }
  },
  "cells": [
    {
      "cell_type": "markdown",
      "source": [
        "Datset Link: https://www.cs.toronto.edu/~delve/data/boston/bostonDetail.html"
      ],
      "metadata": {
        "id": "wlGjh-_bOl5e"
      }
    },
    {
      "cell_type": "code",
      "execution_count": 12,
      "metadata": {
        "id": "jGxdGXPtH4Pv"
      },
      "outputs": [],
      "source": [
        "\n",
        "from sklearn.linear_model import LinearRegression\n",
        "from sklearn.model_selection import train_test_split\n",
        "from numpy import genfromtxt\n",
        "\n",
        "dataset = genfromtxt('https://raw.githubusercontent.com/m-mehdi/tutorials/main/boston_housing.csv', delimiter=',')\n",
        "X = dataset[:,:-1]\n",
        "y = dataset[:,-1]\n",
        "X_train, X_test, y_train, y_test = train_test_split(X, y, test_size=0.25)\n"
      ]
    },
    {
      "cell_type": "code",
      "source": [
        "lr = LinearRegression().fit(X_train, y_train)\n",
        "\n",
        "print(f\"Linear Regression-Training set score: {lr.score(X_train, y_train):.2f}\")\n",
        "print(f\"Linear Regression-Test set score: {lr.score(X_test, y_test):.2f}\")"
      ],
      "metadata": {
        "colab": {
          "base_uri": "https://localhost:8080/"
        },
        "id": "FvUGw4hfKfkt",
        "outputId": "878143bf-f523-4f35-d4c3-81af4489ef1e"
      },
      "execution_count": 5,
      "outputs": [
        {
          "output_type": "stream",
          "name": "stdout",
          "text": [
            "Linear Regression-Training set score: 0.93\n",
            "Linear Regression-Test set score: 0.65\n"
          ]
        }
      ]
    },
    {
      "cell_type": "code",
      "source": [
        "from sklearn.linear_model import Ridge\n",
        "ridge = Ridge(alpha=0.7).fit(X_train, y_train)\n",
        "print(f\"Ridge Regression-Training set score: {ridge.score(X_train, y_train):.2f}\")\n",
        "print(f\"Ridge Regression-Test set score: {ridge.score(X_test, y_test):.2f}\")"
      ],
      "metadata": {
        "colab": {
          "base_uri": "https://localhost:8080/"
        },
        "id": "1M4TX1e_LPyI",
        "outputId": "c5c13c79-ce75-4d25-e85b-dc35fcf139e4"
      },
      "execution_count": 6,
      "outputs": [
        {
          "output_type": "stream",
          "name": "stdout",
          "text": [
            "Ridge Regression-Training set score: 0.86\n",
            "Ridge Regression-Test set score: 0.84\n"
          ]
        }
      ]
    },
    {
      "cell_type": "code",
      "source": [
        "from sklearn.linear_model import Lasso\n",
        "lasso = Lasso(alpha=1.0).fit(X_train, y_train)\n",
        "print(f\"Lasso Regression-Training set score: {lasso.score(X_train, y_train):.2f}\")\n",
        "print(f\"Lasso Regression-Test set score: {lasso.score(X_test, y_test):.2f}\")"
      ],
      "metadata": {
        "colab": {
          "base_uri": "https://localhost:8080/"
        },
        "id": "V1QP_EuKLSzS",
        "outputId": "d6cf5177-3fb9-46fc-c709-63fc455c9e0c"
      },
      "execution_count": 7,
      "outputs": [
        {
          "output_type": "stream",
          "name": "stdout",
          "text": [
            "Lasso Regression-Training set score: 0.24\n",
            "Lasso Regression-Test set score: 0.20\n"
          ]
        }
      ]
    },
    {
      "cell_type": "code",
      "source": [
        "print(f\"Number of features: {sum(lasso.coef_ != 0)}\")"
      ],
      "metadata": {
        "colab": {
          "base_uri": "https://localhost:8080/"
        },
        "id": "7Y9q4woGLVUd",
        "outputId": "0327a9d5-2a8a-4a26-8a27-3e5d85f0daab"
      },
      "execution_count": 8,
      "outputs": [
        {
          "output_type": "stream",
          "name": "stdout",
          "text": [
            "Number of features: 3\n"
          ]
        }
      ]
    },
    {
      "cell_type": "code",
      "source": [
        "## For a large feature set , reduce less features to 0\n",
        "\n",
        "lasso = Lasso(alpha=0.01).fit(X_train, y_train)\n",
        "print(\"Lasso Regression-Training set score: {:.2f}\".format(lasso.score(X_train, y_train)))\n",
        "print(\"Lasso Regression-Test set score: {:.2f}\".format(lasso.score(X_test, y_test)))"
      ],
      "metadata": {
        "colab": {
          "base_uri": "https://localhost:8080/"
        },
        "id": "WUcy3ZZINz8G",
        "outputId": "96324218-ebdd-4a50-bd23-faf97a44c2dd"
      },
      "execution_count": 10,
      "outputs": [
        {
          "output_type": "stream",
          "name": "stdout",
          "text": [
            "Lasso Regression-Training set score: 0.86\n",
            "Lasso Regression-Test set score: 0.83\n"
          ]
        }
      ]
    },
    {
      "cell_type": "code",
      "source": [],
      "metadata": {
        "id": "RkwaiglyN2f_"
      },
      "execution_count": null,
      "outputs": []
    }
  ]
}